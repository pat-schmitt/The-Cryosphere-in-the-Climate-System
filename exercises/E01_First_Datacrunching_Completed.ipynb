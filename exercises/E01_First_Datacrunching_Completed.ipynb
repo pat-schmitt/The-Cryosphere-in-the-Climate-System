{
 "cells": [
  {
   "cell_type": "markdown",
   "metadata": {},
   "source": [
    "# E 01 Read some data and look at it "
   ]
  },
  {
   "cell_type": "markdown",
   "metadata": {},
   "source": [
    "My approach to teach you python is by letting you *do* things. In this example you are going to be able to do a lot of things, quite fast. That doesn't mean that you'll *understand* what you did, but with this very first crash course I hope to give you a bit of the taste of how Python works."
   ]
  },
  {
   "cell_type": "markdown",
   "metadata": {},
   "source": [
    "## Get the data"
   ]
  },
  {
   "cell_type": "markdown",
   "metadata": {},
   "source": [
    "The data files for our exercises are available on OLAT. \n",
    "\n",
    "Copy the file data_Zhadang.csv from the data folder on the course OLAT page to the same directory as your copy of this notebook."
   ]
  },
  {
   "cell_type": "markdown",
   "metadata": {},
   "source": [
    "**Q: Open the file with a text editor. What kind of file is it? What does \"csv\" stands for?**"
   ]
  },
  {
   "cell_type": "markdown",
   "metadata": {},
   "source": [
    "## Read the data"
   ]
  },
  {
   "cell_type": "markdown",
   "metadata": {},
   "source": [
    "To read and analyse the data, we are going to use a very powerful package called [pandas](http://pandas.pydata.org/). Pandas is one of the reason why scientists are moving to python. It is really cool, as I hope to be able to show you now. "
   ]
  },
  {
   "cell_type": "code",
   "execution_count": null,
   "metadata": {},
   "outputs": [],
   "source": [
    "import pandas as pd  # pd is the short name for pandas. It's good to stick to it. \n",
    "# While we are at it, let's import some other things we might need later\n",
    "%matplotlib inline\n",
    "import matplotlib.pyplot as plt  # plotting library\n",
    "import numpy as np  # numerical library"
   ]
  },
  {
   "cell_type": "code",
   "execution_count": null,
   "metadata": {},
   "outputs": [],
   "source": [
    "# We are now using pandas to read the data out of the csv file\n",
    "# The first argument to the function is a path to a file, the other arguments\n",
    "# are called \"keywords\". They tell to pandas to do certain things\n",
    "df = pd.read_csv('data_Zhadang.csv', index_col=0, parse_dates=True)"
   ]
  },
  {
   "cell_type": "markdown",
   "metadata": {},
   "source": [
    "df is a new variable we just created. It the short name for \"dataframe\". A dataframe is a kind of table, a little bit like in excel. Let's simply print it:"
   ]
  },
  {
   "cell_type": "code",
   "execution_count": null,
   "metadata": {},
   "outputs": [],
   "source": [
    "df"
   ]
  },
  {
   "cell_type": "markdown",
   "metadata": {},
   "source": [
    "The dataframe has one \"column\" (TEMP_2M) and an \"index\" (a timestamp). A dataframe has many useful functions, for example you can make a plot out of it:"
   ]
  },
  {
   "cell_type": "code",
   "execution_count": null,
   "metadata": {},
   "outputs": [],
   "source": [
    "df.plot();"
   ]
  },
  {
   "cell_type": "markdown",
   "metadata": {},
   "source": [
    "## Select parts of the data"
   ]
  },
  {
   "cell_type": "markdown",
   "metadata": {},
   "source": [
    "Pandas is really good at *indexing* data. This means that it should be as easy as possible to select, for example, a specific day and plot it on a graph:"
   ]
  },
  {
   "cell_type": "code",
   "execution_count": null,
   "metadata": {},
   "outputs": [],
   "source": [
    "df_sel = df.loc['2011-05-12'] \n",
    "df_sel.plot();"
   ]
  },
  {
   "cell_type": "markdown",
   "metadata": {},
   "source": [
    "**Q: Now select another day (for example July 1st 2011), and plot the data.**"
   ]
  },
  {
   "cell_type": "code",
   "execution_count": null,
   "metadata": {},
   "outputs": [],
   "source": [
    "df_sel1 = df.loc['2011-01-15']\n",
    "df_sel1.plot();"
   ]
  },
  {
   "cell_type": "markdown",
   "metadata": {},
   "source": [
    "Note that you can also select specific range of time, for example the first week of July:"
   ]
  },
  {
   "cell_type": "code",
   "execution_count": null,
   "metadata": {},
   "outputs": [],
   "source": [
    "df.loc['2011-07-01':'2011-07-07'].plot();"
   ]
  },
  {
   "cell_type": "markdown",
   "metadata": {},
   "source": [
    "Or the month of August:"
   ]
  },
  {
   "cell_type": "code",
   "execution_count": null,
   "metadata": {},
   "outputs": [],
   "source": [
    "df.loc['2011-08'].plot();"
   ]
  },
  {
   "cell_type": "markdown",
   "metadata": {},
   "source": [
    "## Computing averages"
   ]
  },
  {
   "cell_type": "markdown",
   "metadata": {},
   "source": [
    "Pandas comes with very handy operations like \"[resample](http://pandas.pydata.org/pandas-docs/stable/generated/pandas.DataFrame.resample.html)\". Resample helps you to compute statistics over time. It's better explained with an example:"
   ]
  },
  {
   "cell_type": "code",
   "execution_count": null,
   "metadata": {},
   "outputs": [],
   "source": [
    "daily_mean = df.resample('D').mean()"
   ]
  },
  {
   "cell_type": "markdown",
   "metadata": {},
   "source": [
    "**Q: Print the daily_mean variable. Plot it.**"
   ]
  },
  {
   "cell_type": "code",
   "execution_count": null,
   "metadata": {},
   "outputs": [],
   "source": [
    "print(daily_mean)\n",
    "daily_mean.plot();"
   ]
  },
  {
   "cell_type": "markdown",
   "metadata": {},
   "source": [
    "**Q: Now try the functions df.resample('D').max() and df.resample('D').min(). What will they do? Plot them.**"
   ]
  },
  {
   "cell_type": "code",
   "execution_count": null,
   "metadata": {},
   "outputs": [],
   "source": [
    "df.resample('D').max().plot();\n",
    "df.resample('D').min().plot();"
   ]
  },
  {
   "cell_type": "markdown",
   "metadata": {},
   "source": [
    "## Adding and selecting columns to dataframes"
   ]
  },
  {
   "cell_type": "markdown",
   "metadata": {},
   "source": [
    "Columns in the dataframe can be created with the simple syntax:"
   ]
  },
  {
   "cell_type": "code",
   "execution_count": null,
   "metadata": {},
   "outputs": [],
   "source": [
    "daily_mean['TEMP_MAX'] = df.resample('D').max()\n",
    "daily_mean['TEMP_MIN'] = df.resample('D').min()"
   ]
  },
  {
   "cell_type": "markdown",
   "metadata": {},
   "source": [
    "**Q: Print the daily_mean dataframe. How many columns does it have? Plot it.**"
   ]
  },
  {
   "cell_type": "code",
   "execution_count": null,
   "metadata": {},
   "outputs": [],
   "source": [
    "daily_mean"
   ]
  },
  {
   "cell_type": "code",
   "execution_count": null,
   "metadata": {},
   "outputs": [],
   "source": [
    "print(daily_mean)\n",
    "# now it has 4 colums, including the minimum and maximum temperature!\n",
    "daily_mean.plot();\n",
    "# so the plot will include three temperature lines"
   ]
  },
  {
   "cell_type": "markdown",
   "metadata": {},
   "source": [
    "It is easy to select a single column and, for example, plot it alone:"
   ]
  },
  {
   "cell_type": "code",
   "execution_count": null,
   "metadata": {},
   "outputs": [],
   "source": [
    "daily_mean['TEMP_MAX'].plot();"
   ]
  },
  {
   "cell_type": "markdown",
   "metadata": {},
   "source": [
    "## Operations on columns"
   ]
  },
  {
   "cell_type": "markdown",
   "metadata": {},
   "source": [
    "Operations on columns are just like normal array operations:"
   ]
  },
  {
   "cell_type": "code",
   "execution_count": null,
   "metadata": {},
   "outputs": [],
   "source": [
    "temp_range = daily_mean['TEMP_MAX'] - daily_mean['TEMP_MIN']"
   ]
  },
  {
   "cell_type": "markdown",
   "metadata": {},
   "source": [
    "**Q: What is temp_range? Plot it. Add it to the daily_mean dataframe**"
   ]
  },
  {
   "cell_type": "code",
   "execution_count": null,
   "metadata": {},
   "outputs": [],
   "source": [
    "daily_mean ['TEMP_RANGE'] = temp_range\n",
    "print(daily_mean)\n",
    "temp_range.plot();"
   ]
  },
  {
   "cell_type": "markdown",
   "metadata": {},
   "source": [
    "## Exercise: apply what you just learned"
   ]
  },
  {
   "cell_type": "markdown",
   "metadata": {},
   "source": [
    "In the example above, we used resample with the argument 'D', for \"daily frequency\". The equivalent for monthly would be 'MS' (the \"S\" is for \"start\"). Could you repeat the operation above, but with monthly averages instead of daily averages?"
   ]
  },
  {
   "cell_type": "code",
   "execution_count": null,
   "metadata": {},
   "outputs": [],
   "source": [
    "monthly_mean = df.resample('MS').mean()\n",
    "monthly_mean['TEMP_MONTH_MAX'] = df.resample('MS').max()\n",
    "monthly_mean['TEMP_MONTH_MIN'] = df.resample('MS').min()\n",
    "monthly_mean['TEMP_RANGE'] = monthly_mean['TEMP_MONTH_MAX'] - monthly_mean['TEMP_MONTH_MIN']\n",
    "print(monthly_mean) # see if it works correctly\n",
    "monthly_mean.plot();"
   ]
  },
  {
   "cell_type": "code",
   "execution_count": null,
   "metadata": {},
   "outputs": [],
   "source": [
    "# note that its not necessary to plot series separately\n",
    "monthly_mean.plot();\n",
    "monthly_mean['TEMP_MONTH_MAX'].plot();\n",
    "monthly_mean['TEMP_MONTH_MIN'].plot();\n",
    "# look at behaviour of colours v legend here:"
   ]
  },
  {
   "cell_type": "markdown",
   "metadata": {},
   "source": [
    "How could you plot two daily temperature cycles in the same figure? Have a go!"
   ]
  },
  {
   "cell_type": "code",
   "execution_count": null,
   "metadata": {},
   "outputs": [],
   "source": [
    "# make hour vector\n",
    "hr = np.arange(0,24)\n",
    "# plot data from 2 days together\n",
    "plt.plot(hr,df.loc['2011-01-15', 'TEMP_2M'], label = '15 Jan');\n",
    "plt.plot(hr,df.loc['2011-08-15', 'TEMP_2M'], label = '15 Aug');\n",
    "# note how we can add legend items this way\n",
    "\n",
    "# add some stuff to make the plot clearer\n",
    "plt.ylabel('T($^{\\circ}$C)');\n",
    "plt.xlabel('Hour');\n",
    "plt.legend(loc = 'best');\n",
    "# do you like gridlines?\n",
    "plt.grid(color = 'k', linestyle = '-', linewidth = 0.2);\n",
    "# how about a title?\n",
    "plt.title('Two different daily temperature cycles in 2011');"
   ]
  },
  {
   "cell_type": "code",
   "execution_count": null,
   "metadata": {},
   "outputs": [],
   "source": [
    "# can also extract hour from the pandas index\n",
    "plt.plot(df.loc['2011-01-15'].index.hour,df.loc['2011-01-15', 'TEMP_2M'], label = '15 Jan');\n",
    "plt.plot(df.loc['2011-01-15'].index.hour,df.loc['2011-08-15', 'TEMP_2M'], label = '15 Aug');"
   ]
  },
  {
   "cell_type": "code",
   "execution_count": null,
   "metadata": {},
   "outputs": [],
   "source": [
    "# or maybe its 'cleaner' this way?\n",
    "jan_day = df.loc['2011-01-15']\n",
    "aug_day = df.loc['2011-08-15']\n",
    "plt.plot(jan_day.index.hour,jan_day['TEMP_2M'], label = '15 Jan');\n",
    "plt.plot(aug_day.index.hour,aug_day['TEMP_2M'], label = '15 Aug');"
   ]
  },
  {
   "cell_type": "markdown",
   "metadata": {},
   "source": [
    "To read more about pandas indexing and data selection conventions look here: https://pandas.pydata.org/pandas-docs/stable/indexing.html"
   ]
  }
 ],
 "metadata": {
  "kernelspec": {
   "display_name": "Python 3",
   "language": "python",
   "name": "python3"
  },
  "language_info": {
   "codemirror_mode": {
    "name": "ipython",
    "version": 3
   },
   "file_extension": ".py",
   "mimetype": "text/x-python",
   "name": "python",
   "nbconvert_exporter": "python",
   "pygments_lexer": "ipython3",
   "version": "3.6.11"
  },
  "toc": {
   "base_numbering": 1,
   "nav_menu": {},
   "number_sections": true,
   "sideBar": true,
   "skip_h1_title": false,
   "title_cell": "Table of Contents",
   "title_sidebar": "Contents",
   "toc_cell": false,
   "toc_position": {},
   "toc_section_display": true,
   "toc_window_display": false
  }
 },
 "nbformat": 4,
 "nbformat_minor": 1
}
