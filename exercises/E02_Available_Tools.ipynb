{
 "cells": [
  {
   "cell_type": "markdown",
   "metadata": {},
   "source": [
    "# Lesson: more analysis and plotting tools "
   ]
  },
  {
   "cell_type": "markdown",
   "metadata": {},
   "source": [
    "Last week you read and analyzed a CSV file with the `pandas` library. The purpose of todays lesson is to introduce you to *most* of the tools that you will need for your projects.\n",
    "\n",
    "This is quite a dense lesson. Please do it entirely and quietly in order to remember the principles for later. You can always come back to these examples when you'll need them. There are three sections:\n",
    "- More about python syntax\n",
    "- More about pandas\n",
    "- More about plotting"
   ]
  },
  {
   "cell_type": "markdown",
   "metadata": {},
   "source": [
    "## More about python syntax"
   ]
  },
  {
   "cell_type": "markdown",
   "metadata": {},
   "source": [
    "### Python objects"
   ]
  },
  {
   "cell_type": "markdown",
   "metadata": {},
   "source": [
    "In python, *all* variables are also \"things\". In the programming jargon, these \"things\" are called *objects*. Without going into details that you won't need for this lecture, objects have so-called \"attributes\" and \"methods\". `Attributes` are information stored about the object, `methods` are similar to functions, but they are applied *to* or *from* the object.\n",
    "\n",
    "For example, even simple integers are also \"things with attributes\":"
   ]
  },
  {
   "cell_type": "code",
   "execution_count": null,
   "metadata": {},
   "outputs": [],
   "source": [
    "# Let's define an interger\n",
    "a = 1\n",
    "# Get its attributes\n",
    "print('The real part of a is', a.real)\n",
    "print('The imaginary part of a is', a.imag)"
   ]
  },
  {
   "cell_type": "markdown",
   "metadata": {},
   "source": [
    "Attributes are read with a `dot`. They are like variables:"
   ]
  },
  {
   "cell_type": "code",
   "execution_count": null,
   "metadata": {},
   "outputs": [],
   "source": [
    "ra = a.real\n",
    "ra"
   ]
  },
  {
   "cell_type": "markdown",
   "metadata": {},
   "source": [
    "Importantly, objects can also have functions that apply to them. For example, `strings` have a function called `split()`:"
   ]
  },
  {
   "cell_type": "code",
   "execution_count": null,
   "metadata": {},
   "outputs": [],
   "source": [
    "s = 'This:is:a:stupid:example'\n",
    "s_splitup = s.split(':')\n",
    "print(s_splitup)"
   ]
  },
  {
   "cell_type": "markdown",
   "metadata": {},
   "source": [
    "Note that whereas attributes are read with a '.', functions are called with parentheses, and sometimes they require arguments (the ':' in the case above). \n",
    "\n",
    "Strings also have the `join()` method by the way:"
   ]
  },
  {
   "cell_type": "code",
   "execution_count": null,
   "metadata": {},
   "outputs": [],
   "source": [
    "' '.join(s_splitup)"
   ]
  },
  {
   "cell_type": "markdown",
   "metadata": {},
   "source": [
    "It is not necessary to know the details about object oriented programming to use python (in fact, most of the time you don't need to use these concepts yourselves). But it **is** important to know that you can have access to attributes and methods on almost *everything* in python. "
   ]
  },
  {
   "cell_type": "markdown",
   "metadata": {},
   "source": [
    "### Getting help about python variables and functions"
   ]
  },
  {
   "cell_type": "markdown",
   "metadata": {},
   "source": [
    "Remember that you can always ask for help about functions:"
   ]
  },
  {
   "cell_type": "code",
   "execution_count": null,
   "metadata": {},
   "outputs": [],
   "source": [
    "import pandas as pd\n",
    "pd.date_range?"
   ]
  },
  {
   "cell_type": "markdown",
   "metadata": {},
   "source": [
    "Also, the ocumentation pages of the various libraries are very useful. This semester, we are going to rely mostly on three components:\n",
    "- [numpy](http://docs.scipy.org/doc/numpy/reference/): this is the base on which any scientific python project is built. \n",
    "- [matplotlib](http://matplotlib.org/index.html): plotting tools\n",
    "- [pandas](http://pandas.pydata.org/pandas-docs/version/0.18.0/): working with time series data\n",
    "\n",
    "It's always useful to have their documentation webpage open on your browser for easy reference."
   ]
  },
  {
   "cell_type": "markdown",
   "metadata": {},
   "source": [
    "## More about pandas"
   ]
  },
  {
   "cell_type": "markdown",
   "metadata": {},
   "source": [
    "We are going to learn about some of the most basic tools offered by ``pandas``."
   ]
  },
  {
   "cell_type": "code",
   "execution_count": null,
   "metadata": {},
   "outputs": [],
   "source": [
    "import pandas as pd  # pd is the short name for pandas. It's good to stick to it. \n",
    "# While we are at it, let's import some other things we might need later\n",
    "# this tells the notebook to draw the plots below the cells, and not in a new window:\n",
    "%matplotlib inline \n",
    "import matplotlib.pyplot as plt  # plotting library\n",
    "import numpy as np  # numerical library\n",
    "\n",
    "# Below I set a gobal option: I would like to reduce the number of rows that pandas is printing:\n",
    "pd.options.display.max_rows = 14"
   ]
  },
  {
   "cell_type": "code",
   "execution_count": null,
   "metadata": {},
   "outputs": [],
   "source": [
    "# We are now using pandas to read the data out of the same csv file as last time\n",
    "# The first argument to the function is a path to a file, the other arguments\n",
    "# are called \"keywords\". They tell to pandas to do certain things\n",
    "df = pd.read_csv('data/data_Zhadang.csv', index_col=0, parse_dates=True)"
   ]
  },
  {
   "cell_type": "markdown",
   "metadata": {},
   "source": [
    "**Q: What are the two keywords of the function doing? Have a quick look at the documentation of `pandas.read_csv()` (either online or by using `?`). Why do you think that `read_csv` has so many keywords available?**"
   ]
  },
  {
   "cell_type": "code",
   "execution_count": null,
   "metadata": {},
   "outputs": [],
   "source": [
    "# your answer here"
   ]
  },
  {
   "cell_type": "markdown",
   "metadata": {},
   "source": [
    "The output of read_csv is a DataFrame object. A DataFrame has columns and rows and, importantly, it has an index. In our case, it is the time:\n"
   ]
  },
  {
   "cell_type": "code",
   "execution_count": null,
   "metadata": {},
   "outputs": [],
   "source": [
    "df.index"
   ]
  },
  {
   "cell_type": "markdown",
   "metadata": {},
   "source": [
    "For the excercices below it is enough to select a shorter time period, let's say one day:"
   ]
  },
  {
   "cell_type": "code",
   "execution_count": null,
   "metadata": {},
   "outputs": [],
   "source": [
    "df = df.loc['2010-10-02']"
   ]
  },
  {
   "cell_type": "markdown",
   "metadata": {},
   "source": [
    "If you want to quickly know the number of elements of a dataframe, you can use the `len()` function:"
   ]
  },
  {
   "cell_type": "code",
   "execution_count": null,
   "metadata": {},
   "outputs": [],
   "source": [
    "len(df)"
   ]
  },
  {
   "cell_type": "markdown",
   "metadata": {},
   "source": [
    "### Columns"
   ]
  },
  {
   "cell_type": "markdown",
   "metadata": {},
   "source": [
    "Columns can be accessed in two ways. Like this:"
   ]
  },
  {
   "cell_type": "code",
   "execution_count": null,
   "metadata": {},
   "outputs": [],
   "source": [
    "t2m = df['TEMP_2M']\n",
    "t2m"
   ]
  },
  {
   "cell_type": "markdown",
   "metadata": {},
   "source": [
    "Or as an \"attribute\", as you will find out by yourself. \n",
    "\n",
    "**Q: Type df. in the cell below and then press TAB. See the list of options and select the temperature.**"
   ]
  },
  {
   "cell_type": "code",
   "execution_count": null,
   "metadata": {},
   "outputs": [],
   "source": [
    "# your answer here"
   ]
  },
  {
   "cell_type": "markdown",
   "metadata": {},
   "source": [
    "A column taken out of the dataframe like this is called a `Series`. Note that it is printed slightly differently than a `DataFrame`. In many ways, series and dataframes are the same (i.e. they share the same functionalities. See also the pandas [documentation](http://pandas.pydata.org/pandas-docs/stable/overview.html))."
   ]
  },
  {
   "cell_type": "markdown",
   "metadata": {},
   "source": [
    "We are now creating a new column, which is simply the temperature + 3 degrees. Note that mathematical operations are allowed on pandas series. Even better, **the `index` of the data is conserved with this mathematical operation**! See:"
   ]
  },
  {
   "cell_type": "code",
   "execution_count": null,
   "metadata": {},
   "outputs": [],
   "source": [
    "new_data = t2m + 3\n",
    "new_data"
   ]
  },
  {
   "cell_type": "markdown",
   "metadata": {},
   "source": [
    "If you really need it (this is quite rare), you can access the \"old fashioned\" data of the series like this:"
   ]
  },
  {
   "cell_type": "code",
   "execution_count": null,
   "metadata": {},
   "outputs": [],
   "source": [
    "vals = new_data.values\n",
    "vals"
   ]
  },
  {
   "cell_type": "markdown",
   "metadata": {},
   "source": [
    "**Q: What is the type of vals? Ask the help for this. To which library does this object belong?**"
   ]
  },
  {
   "cell_type": "code",
   "execution_count": null,
   "metadata": {},
   "outputs": [],
   "source": [
    "# your answer here"
   ]
  },
  {
   "cell_type": "markdown",
   "metadata": {},
   "source": [
    "### Changing the index of a series"
   ]
  },
  {
   "cell_type": "markdown",
   "metadata": {},
   "source": [
    "It is possible to update the index of a series. This is very useful when you are dealing with different time zones for example. We are now going to assume that our time has to be shifted by 3 hours:"
   ]
  },
  {
   "cell_type": "code",
   "execution_count": null,
   "metadata": {},
   "outputs": [],
   "source": [
    "# We add 3 hours to the old index, and then replace it:\n",
    "new_data.index = new_data.index + pd.DateOffset(hours=3)"
   ]
  },
  {
   "cell_type": "markdown",
   "metadata": {},
   "source": [
    "**Careful! If you run the cell above more than once, you are going to shift the time of more than three hours!**"
   ]
  },
  {
   "cell_type": "markdown",
   "metadata": {},
   "source": [
    "Note that here we use a so-called \"naive\" timestamp, i.e. our timestamp doesn't know in which time zone it is. However timezone is a possible attribute for the index."
   ]
  },
  {
   "cell_type": "markdown",
   "metadata": {},
   "source": [
    "### Indexes ARE important"
   ]
  },
  {
   "cell_type": "markdown",
   "metadata": {},
   "source": [
    "We already learned that indexes are very useful: we can select periods out of it, and plots are using the index to locate the x-axis:"
   ]
  },
  {
   "cell_type": "code",
   "execution_count": null,
   "metadata": {},
   "outputs": [],
   "source": [
    "new_data.plot();"
   ]
  },
  {
   "cell_type": "markdown",
   "metadata": {},
   "source": [
    "Indexes are also used by pandas to merge the data together. We are now putting our new (shifted) data into the dataframe as a new column:"
   ]
  },
  {
   "cell_type": "code",
   "execution_count": null,
   "metadata": {},
   "outputs": [],
   "source": [
    "df['NEW_TEMP'] = new_data"
   ]
  },
  {
   "cell_type": "markdown",
   "metadata": {},
   "source": [
    "**Q: Print and plot the new dataframe. What did pandas to the data? Does it make sense? What would you have expected?**"
   ]
  },
  {
   "cell_type": "code",
   "execution_count": null,
   "metadata": {},
   "outputs": [],
   "source": [
    "# your answer here"
   ]
  },
  {
   "cell_type": "markdown",
   "metadata": {},
   "source": [
    "### Operations on dataframes"
   ]
  },
  {
   "cell_type": "markdown",
   "metadata": {},
   "source": [
    "Mathematical operations are also possible on DataFrames. For example, see the result of:"
   ]
  },
  {
   "cell_type": "code",
   "execution_count": null,
   "metadata": {},
   "outputs": [],
   "source": [
    "df - df"
   ]
  },
  {
   "cell_type": "markdown",
   "metadata": {},
   "source": [
    "This operation of course is not very useful, but you see the point. More interesting however is following:"
   ]
  },
  {
   "cell_type": "code",
   "execution_count": null,
   "metadata": {},
   "outputs": [],
   "source": [
    "df.mean()"
   ]
  },
  {
   "cell_type": "markdown",
   "metadata": {},
   "source": [
    "Ok, so it is easy to compute the average over columns. But see what happens when I do:"
   ]
  },
  {
   "cell_type": "code",
   "execution_count": null,
   "metadata": {},
   "outputs": [],
   "source": [
    "dfa = df - df.mean()"
   ]
  },
  {
   "cell_type": "markdown",
   "metadata": {},
   "source": [
    "**Q: Plot the dfa variable. What did we just do? **"
   ]
  },
  {
   "cell_type": "code",
   "execution_count": null,
   "metadata": {},
   "outputs": [],
   "source": [
    "# Your answer here"
   ]
  },
  {
   "cell_type": "markdown",
   "metadata": {},
   "source": [
    "### Selecting data"
   ]
  },
  {
   "cell_type": "markdown",
   "metadata": {},
   "source": [
    "As we have seen last week, the index decides upon how to locate data in the dataframe:"
   ]
  },
  {
   "cell_type": "code",
   "execution_count": null,
   "metadata": {},
   "outputs": [],
   "source": [
    "df_sel = df.loc['2010-10-02 08:00:00':'2010-10-02 14:00:00']\n",
    "df_sel"
   ]
  },
  {
   "cell_type": "markdown",
   "metadata": {},
   "source": [
    "But it also possible to select data based on a condition. For example, I would like to select all data where `TEMP_2M` is higher than 2°:"
   ]
  },
  {
   "cell_type": "code",
   "execution_count": null,
   "metadata": {},
   "outputs": [],
   "source": [
    "df_sel.loc[df_sel['TEMP_2M'] > 2]"
   ]
  },
  {
   "cell_type": "markdown",
   "metadata": {},
   "source": [
    "We can also select data based on other conditions. For example:"
   ]
  },
  {
   "cell_type": "code",
   "execution_count": null,
   "metadata": {},
   "outputs": [],
   "source": [
    "df_sel.loc[df_sel.index.hour == 10]"
   ]
  },
  {
   "cell_type": "markdown",
   "metadata": {},
   "source": [
    "Or taking all hours before and including 11:"
   ]
  },
  {
   "cell_type": "code",
   "execution_count": null,
   "metadata": {},
   "outputs": [],
   "source": [
    "df_sel.loc[df_sel.index.hour <= 11]"
   ]
  },
  {
   "cell_type": "markdown",
   "metadata": {},
   "source": [
    "### Resampling, grouping"
   ]
  },
  {
   "cell_type": "markdown",
   "metadata": {},
   "source": [
    "For the next examples, we are going to need our original data back again:"
   ]
  },
  {
   "cell_type": "code",
   "execution_count": null,
   "metadata": {},
   "outputs": [],
   "source": [
    "df = pd.read_csv('data/data_Zhadang.csv', index_col=0, parse_dates=True)"
   ]
  },
  {
   "cell_type": "markdown",
   "metadata": {},
   "source": [
    "We already learned last week that we can compute monthly averages very easily using the `resample` function:"
   ]
  },
  {
   "cell_type": "code",
   "execution_count": null,
   "metadata": {},
   "outputs": [],
   "source": [
    "monthly_mean_ts = df.resample('MS').mean()"
   ]
  },
  {
   "cell_type": "markdown",
   "metadata": {},
   "source": [
    "`resample` is \"time aware\", meaning that it understands the time and makes groups of the months. What you make with these groups is up to you (here we used `.mean()`, but last week we also used `.max()` for example).\n",
    "\n",
    "Pandas provides an even more general way to make \"groups\". This is the `groupby` function. We are going to use it:"
   ]
  },
  {
   "cell_type": "code",
   "execution_count": null,
   "metadata": {},
   "outputs": [],
   "source": [
    "monthly_mean_groups = df.groupby(df.index.month).mean()"
   ]
  },
  {
   "cell_type": "markdown",
   "metadata": {},
   "source": [
    "**Q: Print and plot the variables `monthly_mean_ts` and `monthly_mean_groups`. What are the differences between the two? What is the same? Which different usage will both of them have?**"
   ]
  },
  {
   "cell_type": "code",
   "execution_count": null,
   "metadata": {},
   "outputs": [],
   "source": [
    "# your answer here"
   ]
  },
  {
   "cell_type": "markdown",
   "metadata": {},
   "source": [
    "### Renaming columns"
   ]
  },
  {
   "cell_type": "markdown",
   "metadata": {},
   "source": [
    "Let's start by creating a useful dataframe first:"
   ]
  },
  {
   "cell_type": "code",
   "execution_count": null,
   "metadata": {},
   "outputs": [],
   "source": [
    "monthly_mean = df.resample('MS').mean()\n",
    "monthly_mean['TEMP_MAX'] = df.resample('MS').max()\n",
    "monthly_mean['TEMP_MIN'] = df.resample('MS').min()"
   ]
  },
  {
   "cell_type": "markdown",
   "metadata": {},
   "source": [
    "I can list all the available columns easily, since `columns` is a dataframe attribute:"
   ]
  },
  {
   "cell_type": "code",
   "execution_count": null,
   "metadata": {},
   "outputs": [],
   "source": [
    "monthly_mean.columns"
   ]
  },
  {
   "cell_type": "markdown",
   "metadata": {},
   "source": [
    "One of the possible ways to rename columns of a dataframe is simply to reassign this attribute:"
   ]
  },
  {
   "cell_type": "code",
   "execution_count": null,
   "metadata": {},
   "outputs": [],
   "source": [
    "monthly_mean.columns = ['T_Mean', 'T_Max', 'T_Min']"
   ]
  },
  {
   "cell_type": "markdown",
   "metadata": {},
   "source": [
    "Print that to see how it looks"
   ]
  },
  {
   "cell_type": "markdown",
   "metadata": {},
   "source": [
    "## More about plotting"
   ]
  },
  {
   "cell_type": "markdown",
   "metadata": {},
   "source": [
    "We have now seen that making a plot from a dataframe is a very easy task. Here we are going to show some ways to make other meaningful plots."
   ]
  },
  {
   "cell_type": "markdown",
   "metadata": {},
   "source": [
    "### Matplotlib"
   ]
  },
  {
   "cell_type": "markdown",
   "metadata": {},
   "source": [
    "### Figure size"
   ]
  },
  {
   "cell_type": "markdown",
   "metadata": {},
   "source": [
    "You can define the size of the figure with the following keyword:"
   ]
  },
  {
   "cell_type": "code",
   "execution_count": null,
   "metadata": {},
   "outputs": [],
   "source": [
    "monthly_mean.plot(figsize=(14, 5));"
   ]
  },
  {
   "cell_type": "markdown",
   "metadata": {},
   "source": [
    "### Matplotlib machinery"
   ]
  },
  {
   "cell_type": "markdown",
   "metadata": {},
   "source": [
    "Matplotlib is the actual \"machine\" doing the plots. We don't see it, because `pandas` is actually calling `matplotlib` internally. But pandas' plots are still \"customizable\", as we are going to see."
   ]
  },
  {
   "cell_type": "markdown",
   "metadata": {},
   "source": [
    "### Add units and title to the axes"
   ]
  },
  {
   "cell_type": "code",
   "execution_count": null,
   "metadata": {},
   "outputs": [],
   "source": [
    "ax = monthly_mean.plot()\n",
    "ax.set_ylabel('Temp (°C)');\n",
    "ax.set_title('Monthly averages, min and max');"
   ]
  },
  {
   "cell_type": "markdown",
   "metadata": {},
   "source": [
    "You can use latex formatting too!"
   ]
  },
  {
   "cell_type": "code",
   "execution_count": null,
   "metadata": {},
   "outputs": [],
   "source": [
    "ax = monthly_mean.plot()\n",
    "ax.set_title('$y = x^2 - x + \\\\frac{1}{2}$');"
   ]
  },
  {
   "cell_type": "markdown",
   "metadata": {},
   "source": [
    "### Multiple plots "
   ]
  },
  {
   "cell_type": "code",
   "execution_count": null,
   "metadata": {},
   "outputs": [],
   "source": [
    "# Make one figure, two axes\n",
    "fig, (ax1, ax2) = plt.subplots(1, 2, figsize=(14, 5))\n",
    "# plot the first dataframe in the ax1\n",
    "monthly_mean.plot(ax=ax1);\n",
    "# plot the second dataframe in the ax2\n",
    "df.plot(ax=ax2);\n",
    "# Rename the axes\n",
    "ax1.set_ylabel('Temp (°C)');\n",
    "ax2.set_ylabel('Temp (°C)');\n",
    "ax1.set_xlabel('');\n",
    "ax2.set_xlabel('');\n",
    "# Add titles\n",
    "ax1.set_title('Monthly averages, min and max');\n",
    "ax2.set_title('Hourly temperature');"
   ]
  },
  {
   "cell_type": "markdown",
   "metadata": {},
   "source": [
    "### Make the plots more pretty (a matter of taste)"
   ]
  },
  {
   "cell_type": "markdown",
   "metadata": {},
   "source": [
    "It is a matter of taste, but people say that that matplotlib has bad figure style defaults (this changed recently with the update to Matplotlib V2, which has **much** nicer colors and prettier defaults than V1).\n",
    "\n",
    "Still, some people decided to make their own custom styles, for example the people who devellopped the [seaborn](https://stanford.edu/~mwaskom/software/seaborn/) library. Seaborn just needs to be imported, after which the plots can be made to look quite different:"
   ]
  },
  {
   "cell_type": "code",
   "execution_count": null,
   "metadata": {},
   "outputs": [],
   "source": [
    "import seaborn as sns"
   ]
  },
  {
   "cell_type": "code",
   "execution_count": null,
   "metadata": {},
   "outputs": [],
   "source": [
    "monthly_mean.plot()"
   ]
  },
  {
   "cell_type": "markdown",
   "metadata": {},
   "source": [
    "Now if you want, try controlling some of the [figure aesthetics](https://stanford.edu/~mwaskom/software/seaborn/tutorial/aesthetics.html) using other set-ups:"
   ]
  },
  {
   "cell_type": "code",
   "execution_count": null,
   "metadata": {},
   "outputs": [],
   "source": [
    "# Setting new defaults. See the link above for more options\n",
    "sns.set_style('ticks')\n",
    "sns.set_context('talk')\n",
    "sns.set_style(\"dark\")"
   ]
  },
  {
   "cell_type": "code",
   "execution_count": null,
   "metadata": {},
   "outputs": [],
   "source": [
    "monthly_mean.plot();"
   ]
  },
  {
   "cell_type": "markdown",
   "metadata": {},
   "source": [
    "## Further kind of plots "
   ]
  },
  {
   "cell_type": "markdown",
   "metadata": {},
   "source": [
    "Timeseries are by far not the only way to represent data. Here we show three other ways to represent the data.\n",
    "\n",
    "**Q: Do you know what each of these plots is used for? Do you see them often?**"
   ]
  },
  {
   "cell_type": "markdown",
   "metadata": {},
   "source": [
    "### Scatterplots"
   ]
  },
  {
   "cell_type": "code",
   "execution_count": null,
   "metadata": {},
   "outputs": [],
   "source": [
    "monthly_mean.plot(kind='scatter', x='T_Min', y='T_Max', \n",
    "                  s=90, c='C2', edgecolor='k', figsize=(8, 6));"
   ]
  },
  {
   "cell_type": "markdown",
   "metadata": {},
   "source": [
    "### Histogram plots"
   ]
  },
  {
   "cell_type": "code",
   "execution_count": null,
   "metadata": {},
   "outputs": [],
   "source": [
    "df.plot(kind='hist', bins=30, figsize=(8, 6));"
   ]
  },
  {
   "cell_type": "markdown",
   "metadata": {},
   "source": [
    "### Boxplots"
   ]
  },
  {
   "cell_type": "code",
   "execution_count": null,
   "metadata": {},
   "outputs": [],
   "source": [
    "monthly_mean.plot(kind='box', figsize=(8, 6));"
   ]
  },
  {
   "cell_type": "markdown",
   "metadata": {},
   "source": [
    "### More exotic things"
   ]
  },
  {
   "cell_type": "code",
   "execution_count": null,
   "metadata": {},
   "outputs": [],
   "source": [
    "sns.violinplot(data=monthly_mean);"
   ]
  },
  {
   "cell_type": "code",
   "execution_count": null,
   "metadata": {},
   "outputs": [],
   "source": [
    "sns.pairplot(monthly_mean);"
   ]
  }
 ],
 "metadata": {
  "kernelspec": {
   "display_name": "Python 3",
   "language": "python",
   "name": "python3"
  },
  "language_info": {
   "codemirror_mode": {
    "name": "ipython",
    "version": 3
   },
   "file_extension": ".py",
   "mimetype": "text/x-python",
   "name": "python",
   "nbconvert_exporter": "python",
   "pygments_lexer": "ipython3",
   "version": "3.6.10"
  },
  "toc": {
   "base_numbering": 1,
   "nav_menu": {},
   "number_sections": true,
   "sideBar": true,
   "skip_h1_title": false,
   "title_cell": "Table of Contents",
   "title_sidebar": "Contents",
   "toc_cell": false,
   "toc_position": {},
   "toc_section_display": true,
   "toc_window_display": false
  }
 },
 "nbformat": 4,
 "nbformat_minor": 1
}
