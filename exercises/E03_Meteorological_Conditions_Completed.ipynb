{
 "cells": [
  {
   "cell_type": "markdown",
   "metadata": {},
   "source": [
    "# Exercises 03: exploring some data"
   ]
  },
  {
   "cell_type": "markdown",
   "metadata": {},
   "source": [
    "Here again we will use the AWS data at Zhadang (with variable names and corrected time), on OLAT:\n",
    "\n",
    "data_Zhadang_localtime.csv\n",
    "    \n",
    "The purpose of this excercise is to explore the AWS data and to familiarize you with some... problems that \"real world data\" can have."
   ]
  },
  {
   "cell_type": "code",
   "execution_count": null,
   "metadata": {},
   "outputs": [],
   "source": [
    "# here we can start with the usual imports and defaults, plus your preferences if you have some ...\n",
    "import pandas as pd  \n",
    "%matplotlib inline \n",
    "import matplotlib.pyplot as plt\n",
    "import numpy as np\n",
    "pd.options.display.max_rows = 14\n",
    "\n",
    "\n",
    "import seaborn as sns\n",
    "sns.set_style('ticks')\n",
    "sns.set_context('talk')"
   ]
  },
  {
   "cell_type": "markdown",
   "metadata": {},
   "source": [
    "Read the data with pandas and explore the dataframe. \n",
    "\n",
    "Make some notes about the annual cycle, range, and units of each variable to describe the general setting of meteorological conditions at Zhadang glacier. Is it what you expected?\n",
    "\n",
    "Also take a look at the code and check you understand from the examples in exercise 2 what the commands are doing - you can search commands online for a description https://matplotlib.org/tutorials/introductory/pyplot.html or ask for help."
   ]
  },
  {
   "cell_type": "code",
   "execution_count": null,
   "metadata": {},
   "outputs": [],
   "source": [
    "# read the data ... remember this?\n",
    "df = pd.read_csv('data/data_Zhadang_localtime.csv', index_col=0, parse_dates=True)"
   ]
  },
  {
   "cell_type": "code",
   "execution_count": null,
   "metadata": {},
   "outputs": [],
   "source": [
    "# how are you going to 'explore' this data?\n",
    "\n",
    "# here is one way to plot all the variables and output them as .png files:\n",
    "for c in df.columns:\n",
    "    # empty figure and plot\n",
    "    plt.figure(figsize=(6, 4))\n",
    "    df[c].plot(title=c)\n",
    "    plt.tight_layout()\n",
    "    plt.savefig(c + '.png', dpi=300)\n",
    "    plt.close()    "
   ]
  },
  {
   "cell_type": "code",
   "execution_count": null,
   "metadata": {},
   "outputs": [],
   "source": [
    "# here is an alternative multiplot format\n",
    "plt.figure(figsize= (5,20))\n",
    "VAR = df.columns\n",
    "for v, var in enumerate(VAR, 1):\n",
    "        plt.subplot(len(VAR), 1, v)\n",
    "        df[var].plot()"
   ]
  },
  {
   "cell_type": "code",
   "execution_count": null,
   "metadata": {},
   "outputs": [],
   "source": [
    "# or you can also use pandas subplots option\n",
    "df.plot(subplots=True, figsize=(10,25));"
   ]
  },
  {
   "cell_type": "code",
   "execution_count": null,
   "metadata": {},
   "outputs": [],
   "source": [
    "# you can also use the power of the pandas plot method to plot more variables into the same axis\n",
    "df.plot(y=['RH', 'SURFTEMP'], figsize=(10,5));"
   ]
  },
  {
   "cell_type": "markdown",
   "metadata": {},
   "source": [
    "### Exercise 1: shortwave radiation"
   ]
  },
  {
   "cell_type": "markdown",
   "metadata": {},
   "source": [
    "**Plot hourly SWIN and SWOUT on the same plot for the entire data period. Discuss the features of the plot (periodicity, maxima, minima...). Can you determine at first sight which season is cloudier than others? Or when approximately we have a snow cover, and ice cover?**"
   ]
  },
  {
   "cell_type": "code",
   "execution_count": null,
   "metadata": {},
   "outputs": [],
   "source": [
    "# read the data\n",
    "df = pd.read_csv('data/data_Zhadang_localtime.csv', index_col=0, parse_dates=True)\n",
    "\n",
    "df.plot(y=['SWIN', 'SWOUT'],\n",
    "        ylabel='Radiation ($\\mathrm{W~m^{-2}}$)',\n",
    "        figsize=(10,5));"
   ]
  },
  {
   "cell_type": "markdown",
   "metadata": {},
   "source": [
    "**Make a scatterplot of SWIN versus SWOUT. What features can you describe?**\n",
    "\n",
    "(Tip: you can use 'x' and 'y' paramtere of pandas plot method together with 'kind')"
   ]
  },
  {
   "cell_type": "code",
   "execution_count": null,
   "metadata": {},
   "outputs": [],
   "source": [
    "ax = df.plot(kind='scatter',\n",
    "             x='SWIN',\n",
    "             y='SWOUT',\n",
    "             xlim=[0, 1400],\n",
    "             ylim=[0, 1400], \n",
    "             figsize=(6,6))\n",
    "ax.set_xlabel('SWIN ($\\mathrm{W~m^{-2}}$)')\n",
    "ax.set_ylabel('SWOUT ($\\mathrm{W~m^{-2}}$)');"
   ]
  },
  {
   "cell_type": "markdown",
   "metadata": {},
   "source": [
    "Christmas Eve was a nice, cold and sunny day at Zhadang. \n",
    "\n",
    "**Make a new dataframe (dfchris) which is a subset of the data for the Christmas Eve of 2011. Plot SWIN and SWOUT on the same plot.**\n",
    "\n",
    "**Compute the hourly albedo for this same Christmas day and add it to the dfchris dataframe.** \n",
    "\n",
    "Dividing by zero is never a good idea, the invalid values will be replaced with nan (not a number).\n",
    "\n",
    "**Plot the albedo over the course of this day and discuss. What could be the reasons for this?**"
   ]
  },
  {
   "cell_type": "code",
   "execution_count": null,
   "metadata": {
    "scrolled": false
   },
   "outputs": [],
   "source": [
    "dfchris = df.loc['2011-12-24'].copy()\n",
    "dfchris.plot(y=['SWIN', 'SWOUT'],\n",
    "             ylabel='Radiation ($\\mathrm{W~m^{-2}}$)',\n",
    "             figsize=(10,5));\n",
    "\n",
    "dfchris['ALBEDO'] = dfchris['SWOUT'] / dfchris['SWIN']\n",
    "dfchris.plot(y='ALBEDO',\n",
    "             ylabel='albedo',\n",
    "             figsize=(10,5));"
   ]
  },
  {
   "cell_type": "code",
   "execution_count": null,
   "metadata": {},
   "outputs": [],
   "source": [
    "# or all in one plot\n",
    "dfchris.plot(y=['SWIN', 'SWOUT'],\n",
    "             ylabel='Radiation ($\\mathrm{W~m^{-2}}$)',\n",
    "             figsize=(10,5))\n",
    "\n",
    "ax = dfchris['ALBEDO'].plot(secondary_y=True,\n",
    "                            legend=True)\n",
    "ax.set_ylabel('albedo');"
   ]
  },
  {
   "cell_type": "markdown",
   "metadata": {},
   "source": [
    "**We leave Chrismas and have a look at the 25th of April, 2012. Again, plot SWIN and SWOUT on that day. Discuss. Plot the meterological conditions during the 5-day period centered on 2012-04-25. Can it explain what you see?**"
   ]
  },
  {
   "cell_type": "code",
   "execution_count": null,
   "metadata": {},
   "outputs": [],
   "source": [
    "# some data exploration\n",
    "\n",
    "apr25 =df.loc['2012-04-25']\n",
    "apr25.plot(y=['SWIN', 'SWOUT'],\n",
    "           ylabel='Radiation ($\\mathrm{W~m^{-2}}$)',\n",
    "           figsize=(10,5));\n",
    "\n",
    "fapr = df.loc['2012-04-23':'2012-04-27']\n",
    "fapr.plot(subplots=True, figsize=(10,25));"
   ]
  },
  {
   "cell_type": "code",
   "execution_count": null,
   "metadata": {},
   "outputs": [],
   "source": [
    "fapr.plot(y=['SWIN', 'SWOUT'],\n",
    "          ylabel='Radiation ($\\mathrm{W~m^{-2}}$)',\n",
    "          figsize=(10,5))\n",
    "\n",
    "ax = fapr['SR50'].plot(secondary_y=True,\n",
    "                       legend=True)\n",
    "ax.set_ylabel('height (m)');"
   ]
  },
  {
   "cell_type": "markdown",
   "metadata": {},
   "source": [
    "Because of these problems described above, scientists are using a more robust method to compute the albedo: the \"daily albedo\", much less sensitive to measurement errors and other issues. It is NOT defined as the average of the hourly albedo, but as the ratio of daily amount (sums) of reflected radiation to global radiation. \n",
    "\n",
    "**Make a new dataframe containing the daily albedo (at a daily time step then). Plot it. Any issue? Filter it out, or change the range of the plot axis. Discuss.**\n",
    "\n",
    "(Tip: for filtering you can use pandas .where() method: https://pandas.pydata.org/pandas-docs/stable/reference/api/pandas.DataFrame.where.html)"
   ]
  },
  {
   "cell_type": "code",
   "execution_count": null,
   "metadata": {},
   "outputs": [],
   "source": [
    "daily_sum = df.resample('D').sum()\n",
    "daily_albedo = daily_sum['SWOUT'] / daily_sum['SWIN']\n",
    "daily_albedo = daily_albedo.where((daily_albedo >= 0.) & (daily_albedo <= 1.))\n",
    "daily_albedo.plot(ylabel='albedo',\n",
    "                  figsize=(10,5));"
   ]
  },
  {
   "cell_type": "markdown",
   "metadata": {},
   "source": [
    "### Exercise 2: longwave radiation"
   ]
  },
  {
   "cell_type": "markdown",
   "metadata": {},
   "source": [
    "The net-radiation sensor mounted on the AWS at Zhadang is an [NRLITE](http://www.kippzonen.com/Product/31/NR-Lite2-Net-Radiometer#.Vx_mwCaLiBs). It measures the net radiation in visible and infra-red wavelenghts together, which makes it less interpretable. During the night, however, it is guaranteed to measure the longwave budget only."
   ]
  },
  {
   "cell_type": "markdown",
   "metadata": {},
   "source": [
    "**Make a new dataframe (DFN) which contains data for the night time only. Plot the net radiation, first as a time series and then as an histogram with a large number of bins (e.g. 100). Discuss. Could you distinguish between cloudy and clear-sky conditions? Which other variable could help you out to find out? Could you come up with an algorithm able to select cloudy nights from clear-sky nights?**\n",
    "\n",
    "(Tip: with pandas plot method you can directly use the parameter 'bins' if 'kinds=hist')"
   ]
  },
  {
   "cell_type": "code",
   "execution_count": null,
   "metadata": {},
   "outputs": [],
   "source": [
    "dfn = df.loc[df.SWOUT == 0]\n",
    "dfn.plot(y='NETRAD',\n",
    "         ylabel='Radiation ($\\mathrm{W~m^{-2}}$)',\n",
    "         figsize=(10,5));"
   ]
  },
  {
   "cell_type": "code",
   "execution_count": null,
   "metadata": {},
   "outputs": [],
   "source": [
    "dfn.plot(kind='hist',\n",
    "         y='NETRAD', \n",
    "         bins=100, \n",
    "         figsize=(10,5));"
   ]
  },
  {
   "cell_type": "code",
   "execution_count": null,
   "metadata": {},
   "outputs": [],
   "source": [
    "bins = np.arange(70) * 2 - 120\n",
    "dfn.NETRAD.plot(kind='hist',\n",
    "                bins=bins,\n",
    "                alpha=0.5,\n",
    "                figsize=(10,5));\n",
    "dfn.loc[df.RH > 75].NETRAD.plot(kind='hist',\n",
    "                                bins=bins,\n",
    "                                label='RH > 75%',\n",
    "                                alpha=0.5,\n",
    "                                figsize=(10,5));\n",
    "dfn.loc[df.RH <= 75].NETRAD.plot(kind='hist',\n",
    "                                 bins=bins,\n",
    "                                 label='RH < 75%',\n",
    "                                 alpha=0.5,\n",
    "                                 figsize=(10,5));\n",
    "plt.legend();"
   ]
  },
  {
   "cell_type": "markdown",
   "metadata": {},
   "source": [
    "### Exercise 3: wind"
   ]
  },
  {
   "cell_type": "markdown",
   "metadata": {},
   "source": [
    "The wind direction is given with an angle value, which reports the direction from where the wind is blowing:\n",
    "\n",
    "North: 0°\n",
    "South: 180°\n",
    "West: 270°\n",
    "East: 90°\n",
    "\n",
    "For example, if the wind direction is 45 degrees, the winds are coming out of the northeast and blowing towards the southwest. This would be called a north-easterly wind.\n",
    "\n",
    "Discuss the possible implications that a naive averaging of the wind direction would have. Does it actually make sense to plot the wind direction as a line? Plot the wind-direction as an histogram. Choose the number of bins so that the size of a bin is 10°.\n",
    "\n",
    "By entering the coordinates of the station (30.47153N, 90.64534E) in http://www.bing.com/maps/ you can have a look at the geographical situation of the glacier. Analyse the dominant wind directions in this context. From which directions does the wind almost never blow?"
   ]
  },
  {
   "cell_type": "code",
   "execution_count": null,
   "metadata": {},
   "outputs": [],
   "source": [
    "# histogram plot\n",
    "df.plot(y='WINDDIR',\n",
    "        kind='hist',\n",
    "        bins=36,\n",
    "        figsize=(10,5));"
   ]
  },
  {
   "cell_type": "markdown",
   "metadata": {},
   "source": [
    "**Out of the data, compute the probability that the measured wind-speed over an hour is zero. Plot one of these events where wind-speed is equal to zero for a few hours. Discuss.**"
   ]
  },
  {
   "cell_type": "code",
   "execution_count": null,
   "metadata": {},
   "outputs": [],
   "source": [
    "zero_wind_hour = df.loc[df['WINDSPEED'] == 0]\n",
    "probability_zero_wind_hour = len(zero_wind_hour) / len(df) * 100\n",
    "print('The probability for wind-speed of zero in an hour is {:.2f}%\\n'.format(probability_zero_wind_hour))\n",
    "\n",
    "# print the timeindex to find a period where the wind is zero\n",
    "print(zero_wind_hour.index)"
   ]
  },
  {
   "cell_type": "code",
   "execution_count": null,
   "metadata": {},
   "outputs": [],
   "source": [
    "zero_wind_period = df.loc['2011-06-08':'2011-06-09']\n",
    "zero_wind_period.plot(subplots=True,\n",
    "                      figsize=(10,25));"
   ]
  },
  {
   "cell_type": "markdown",
   "metadata": {},
   "source": [
    "### Exercise 4: positive air temperatures"
   ]
  },
  {
   "cell_type": "markdown",
   "metadata": {},
   "source": [
    "One of the oldest (and still widely used) model of ice and snow melt is the degree day model. It relies on the assumption that melt occurs when air temperature is above the melting point.\n",
    "\n",
    "**Compute the daily averages of air temperature and select the days with temperature above zero. When do they occur? Count the number of days with average temperature above zero. Discuss.**"
   ]
  },
  {
   "cell_type": "code",
   "execution_count": null,
   "metadata": {},
   "outputs": [],
   "source": [
    "# Averages\n",
    "dailytemp = df['TEMP'].resample('D').mean()"
   ]
  },
  {
   "cell_type": "code",
   "execution_count": null,
   "metadata": {},
   "outputs": [],
   "source": [
    "# For the plot its better to crop than select \n",
    "dailytemp.loc[dailytemp < 0] = np.NaN\n",
    "dailytemp.plot(ylabel='Temperature ($\\mathrm{^\\circ C}$)',\n",
    "               figsize=(10,5));"
   ]
  },
  {
   "cell_type": "code",
   "execution_count": null,
   "metadata": {},
   "outputs": [],
   "source": [
    "# count\n",
    "ndays = len(dailytemp.loc[dailytemp > 0])\n",
    "totdays = len(dailytemp)\n",
    "print('{} days out of {} have a daily average above 0°C'.format(ndays, totdays))"
   ]
  }
 ],
 "metadata": {
  "kernelspec": {
   "display_name": "Python 3",
   "language": "python",
   "name": "python3"
  },
  "language_info": {
   "codemirror_mode": {
    "name": "ipython",
    "version": 3
   },
   "file_extension": ".py",
   "mimetype": "text/x-python",
   "name": "python",
   "nbconvert_exporter": "python",
   "pygments_lexer": "ipython3",
   "version": "3.8.6"
  },
  "toc": {
   "base_numbering": 1,
   "nav_menu": {},
   "number_sections": true,
   "sideBar": true,
   "skip_h1_title": false,
   "title_cell": "Table of Contents",
   "title_sidebar": "Contents",
   "toc_cell": false,
   "toc_position": {},
   "toc_section_display": true,
   "toc_window_display": false
  }
 },
 "nbformat": 4,
 "nbformat_minor": 1
}
