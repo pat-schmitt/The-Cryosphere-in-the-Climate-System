{
 "cells": [
  {
   "cell_type": "markdown",
   "metadata": {},
   "source": [
    "## E05 Surface energy balance"
   ]
  },
  {
   "cell_type": "markdown",
   "metadata": {},
   "source": [
    "In this notebook we will compute the surface energy balance and examine some of the fluxes. Its quite a dense exercise so some parts are already done for you in order to save time. However, please do examine the code within the parts that are completed and make sure you understand whats in there.\n",
    "\n",
    "We will stick to data from Zhadang glacier, but can compare the results to published energy fluxes from other glaciers.\n",
    "\n",
    "Completing this notebook will form the bulk of the assessed practical part of the course (20% from here and 5% for participating in the other class homework and assignments) and has 3 parts:\n",
    "1. Calculating the surface energy balance, which is mostly done for you but you will need to answer questions about the variables and process being used to calculate it (5% of total grade).\n",
    "2. Calculating the mass balance from the surface energy balance (5% of total grade).\n",
    "3. Analysing the controls and drivers of the surface energy fluxes at Zhadang glacier and compare the values to those published for a glacier located in a different climate setting (10% of total grade).\n",
    "\n",
    "When presenting your analysis and interpretation in the relevent sections, you can present your thoughts simply as a bullet pointed list, but note that I'd like you to be as thorough as possible - pause to think if you have explored all the aspects that could be relevent.\n",
    "\n",
    "Anyquestions, just drop me an email or ask in the OLAT forum.\n",
    "\n",
    "The completed notebook is due before 21.12.2020. \n",
    "Please name your file labelled with your family name, e.g. E05_SEB_Nicholson.ipyb and submit it by emailling it to me before the deadline please.\n",
    "\n",
    "## 1. Surface energy balance and fluxes\n",
    "\n",
    "Recall that the residual net energy flux at the surface is given by:\n",
    "\n",
    "$E_N = E_R + E_G + E_H + E_E + E_P$\n",
    "\n",
    "You should be clear from lectures what these terms are, but if not ask! They are all energy flux densities and expressed in $W m^{-2} $, with fluxes towards the surface bing positive and those directed away from the surface being negative. Note this convention is different to that used in atmopsheric science as glaciologists view things from the glaciers perspective rather than from that of the atmopshere!\n",
    "\n",
    "We are going to assume for this exercise that the glacier is at the melting point, with the implication that \n",
    "- $E_G$, is zero (though even if the glacier is temperate some small portion of the shortwave radiation would penetrate to the sub-surface)\n",
    "- $E_N$, which causes warming of the glacier if the ice temperature is <0°C and melting if it is at 0°C, is equivalent to the energy available for melt\n",
    "\n",
    "We are also going to neglect $E_P$ as it tends to be small compared to other fluxes"
   ]
  },
  {
   "cell_type": "markdown",
   "metadata": {},
   "source": [
    "#### Load the packages and chosen dataset"
   ]
  },
  {
   "cell_type": "code",
   "execution_count": null,
   "metadata": {},
   "outputs": [],
   "source": [
    "# imports and defaults\n",
    "import pandas as pd  \n",
    "%matplotlib inline \n",
    "import matplotlib.pyplot as plt\n",
    "import numpy as np\n",
    "pd.options.display.max_rows = 14\n",
    "\n",
    "import seaborn as sns\n",
    "sns.set_style('ticks')\n",
    "sns.set_context('talk')"
   ]
  },
  {
   "cell_type": "markdown",
   "metadata": {},
   "source": [
    "**Load the dataset you want to use**"
   ]
  },
  {
   "cell_type": "code",
   "execution_count": null,
   "metadata": {},
   "outputs": [],
   "source": [
    "df = pd.read_csv('data/data_Zhadang_localtime.csv', index_col=0, parse_dates=True)\n",
    "#df"
   ]
  },
  {
   "cell_type": "markdown",
   "metadata": {},
   "source": [
    "###  Radiative fluxes"
   ]
  },
  {
   "cell_type": "markdown",
   "metadata": {},
   "source": [
    "Lets start with radiation as its relatively simple! The radiation components of the surface energy balance are given by:\n",
    "\n",
    "$E_R = E_S(in) + E_S(out) + E_L(in) + E_L(out)$\n",
    "\n",
    "At Zhadang glacier a relatively low-budget NRLITE net radiometer measures net allwave radiation, and we could use that directly as our net radiation term $E_R$, but it is interesting to see how the individual components are in order to undertsand the causes of any observed variation in net radiation flux density. \n",
    "\n",
    "At Zhadang, the incoming and outgoing SW radiation are measured individually, but for budgetary reasons, no direct longwave measurements are made, but there is an infrared temperature sensor measures the surface temperature (Apogee IRTS). According to the equation above, it should not be a big issue to compute incoming LW from the fluxes that are measured here, because we can compute outgoing longwave radiation using the measured surface temperature (in °C) and the Stefan Bolzmann relationship:\n",
    "\n",
    "$T = \\epsilon \\sigma T^4$\n",
    "\n",
    "**Q: Can you remember or look up the non-measured variables we need in this equation?** \n",
    "- Do you remember what the emissivity of a glacier surface is?\n",
    "- Do you know the value of the Stefan Bolzmann constant?\n",
    "- Do you know the temperature unit this equation takes?\n",
    "\n",
    "Once you have the values you need go ahead and calculate outgoing longwave and make a new variable in the df"
   ]
  },
  {
   "cell_type": "code",
   "execution_count": null,
   "metadata": {},
   "outputs": [],
   "source": [
    "# define some constants/parameters\n",
    "# Stefan-Boltzmann constant [W m^−2 K^−4]\n",
    "# sigma = ?\n",
    "# emissivity of glacier surface [no unit] assumed to be 1, which is reasonable.\n",
    "# emiss = ? \n",
    "\n",
    "# calculate outgoing longwave and make a new variable in the df\n",
    "# remember to convert the temperature from C to K\n",
    "# df['LWOUT'] = ?"
   ]
  },
  {
   "cell_type": "markdown",
   "metadata": {},
   "source": [
    "**Q: What might you want to check here with regard to whether this calculation produced physically meaningful results?**\n",
    "\n",
    "- Think of if this flux has any max/ min limits that you could check the data lie within?\n",
    "- You can either plot the data to 'see', but maybe its better to find the values using a python command"
   ]
  },
  {
   "cell_type": "code",
   "execution_count": null,
   "metadata": {},
   "outputs": [],
   "source": [
    "# do your check here and comment on it"
   ]
  },
  {
   "cell_type": "markdown",
   "metadata": {},
   "source": [
    "Now there is only one remaining unknown in the radiation balance and so we can calculate incoming longwave radiation from all the other terms and the known net radiation:"
   ]
  },
  {
   "cell_type": "code",
   "execution_count": null,
   "metadata": {},
   "outputs": [],
   "source": [
    "# calculate LWIN and make a new variable in the df\n",
    "# remember to pay attention to the signs of the fluxes (which are all expressed positively in our dataframe)\n",
    "\n",
    "# df['LWIN'] = ?"
   ]
  },
  {
   "cell_type": "markdown",
   "metadata": {},
   "source": [
    "Maybe you want to plot the incoming longwave and check that the values are physically meaningful and that this has all gone well!"
   ]
  },
  {
   "cell_type": "code",
   "execution_count": null,
   "metadata": {
    "scrolled": false
   },
   "outputs": [],
   "source": [
    "# plot your newly derived LWIN variable to check it is reasonable\n",
    "\n",
    "plt.figure(figsize=(10,5));\n",
    "df['LWIN'].plot();\n",
    "plt.title('Incoming Longwave Radiation');\n",
    "plt.ylabel('W m$^{-2}$');\n",
    "plt.xlabel('');"
   ]
  },
  {
   "cell_type": "markdown",
   "metadata": {},
   "source": [
    "Lets plot all the radiative fluxes together to get an overview:"
   ]
  },
  {
   "cell_type": "code",
   "execution_count": null,
   "metadata": {},
   "outputs": [],
   "source": [
    "plt.figure(figsize=(10,5));\n",
    "df['SWIN'].plot();\n",
    "df['SWOUT'].plot();\n",
    "df['LWIN'].plot();\n",
    "df['LWOUT'].plot();\n",
    "plt.legend(loc='best')\n",
    "plt.title('Radiative Fluxes');\n",
    "plt.ylabel('W m$^{-2}$');\n",
    "plt.xlabel('');"
   ]
  },
  {
   "cell_type": "markdown",
   "metadata": {},
   "source": [
    "**Q: Briefly discuss any remaining problems there might be with the quality of this dataset of all the radiative fluxes?**\n",
    "\n",
    "- are there any other data quality checks you might consdier applying to control for non-physical values?\n",
    "- can you comment on any innaccuracies that might be introduced by the combination of sensors at Zhadang compared to having a 4-component radiometer installed, such as a CNR1 (https://www.campbellsci.com/cnr1)?\n",
    "\n",
    "You can find the list of sensors on the Zhadang weather station in Table 1 of Maussion et al., 2011 (on OLAT), and look them up Campbell Scientific website (https://www.campbellsci.com/) to find their technical specifications.\n",
    "\n",
    "Write your answers here - you do not need to do a quantified quality control of the data, just discuss any potential issues and your ideas on how to check for them and potentially correct them.\n"
   ]
  },
  {
   "cell_type": "code",
   "execution_count": null,
   "metadata": {},
   "outputs": [],
   "source": [
    "# your answer here \n",
    "\n"
   ]
  },
  {
   "cell_type": "markdown",
   "metadata": {},
   "source": [
    "### Calculate turbulent fluxes"
   ]
  },
  {
   "cell_type": "markdown",
   "metadata": {},
   "source": [
    "The turbulent flux section is a bit more complicated, and to save your time for the thinking, it is mainly done for you. Do have a look at the code used though as it is a chance to learn by understanding how the equations are represented in python.\n",
    "\n",
    "If the turbulent heat fluxes are not measured directly (e.g. using eddy correlation systems), they have to be estimated. In the lecture we discussed the main components controlling these fluxes by referring to how the formulae look if you know the empirically derived 'transfer coefficients' for heat and moisture. These are also usually not known due to the difficulty of measuring fluxes directly, so more commonly the turbulent fluxes are estimated using methods that are based on the Monin-Obukhov similarity theory. The flux gradient theory is elaborated in section 5.3.6.2 of the Physics of Glaciers. \n",
    "\n",
    "Here you will use this so-called “bulk method“ to compute the turbulent heat fluxes by using the following analytical expressions (for neutral conditions) adjusted from the equations shown in the Physics of Glaciers to account for the fact that not all of our relevent variables are measured at the same height:\n",
    "\n",
    "$E_H = c_p \\rho_0  \\frac{P}{P_0} \\frac{k^2 u (T_a - T_s)}{ln(z_m / z0_m) ln(z_h/z0_h)}$\n",
    "\n",
    "$E_E = 0.623 L \\rho_0  \\frac{1}{P_0} \\frac{k^2 u (e_a - e_s)}{ln(z_m / z0_m) ln(z_v/z0_v)}$\n",
    " \n",
    "Lets break these down and consider the terms one at a time. \n",
    "\n",
    "In the $E_H$ equation, we can see the governing gradient in temperature $(T_a - T_s)$ and the wind speed $u$ as well as the heat capacity and density of air, which together express the volumetric heat capacity of the air at 0°C at se level pressure. This is scaled to the measurement site by the $\\frac{P}{P_0}$ term. \n",
    "\n",
    "In the $E_E$ equation, we can see the governing gradient in moisture $(e_a - e_s)$. This moisture gradient is expressed as vapor pressure, because this is convinent to use over a frozen water surface as we know the vapor pressure here will be saturation for the given surface temperature. There is also wind speed $u$ again, and we use the latent heat $L$ of sublimation or vaporisation depending on the surface. The numerical term is the ratio of the moelcular weight of water to air, and we use the reference air density and pressure again to scale to our measurement site.\n",
    "\n",
    "The other terms are involved in describing the typical logarithmic profile of windspeed above the surface, that is used in this bulk method, hence the $ln$ terms, and roughness $z0$ related terms.\n",
    "\n",
    "The first thing is a constant known as vón Kármáns constant, $k$, then $z_m$, $z_h$ and $z_v$ are simply the heights (in m) of the sensors (wind speed and temperature respectively). $z0_m$, $z0_h$ and $z0_v$ are related to roughness properties of the surface. The parameter $z0_m$ is the roughness length of momentum (in m) and is a measure of the aerodynamic roughness of the surface, which we talked about in the lecture. It is defined as the height above the surface where the extrapolated logarithmic profile of wind speed is equal to zero. The scalar roughness lengths of heat, $z0_h$ and moisture $z0_v$ (in m) indicate the height above the surface where the logarithmic profile of the respective variable reaches the surface value. Some studies appeal to using identical values for these parameters (as is done for simplicity in the explanation in the Physics of Glaciers), but most evidence suggests that they differ, and so we account for that here.\n",
    "\n",
    "So, lets get on with it :-)"
   ]
  },
  {
   "cell_type": "markdown",
   "metadata": {},
   "source": [
    "### Defining the values of constants and parameters\n",
    "\n",
    "So these sets of equations shown above have a fair number of variables that we need values for that are not provided in our meteorological datasets. Here we use some standard values for physical constants and values for other parameters from the literature or from knownledge of the weather station at Zhadang."
   ]
  },
  {
   "cell_type": "code",
   "execution_count": null,
   "metadata": {},
   "outputs": [],
   "source": [
    "# defining the values of our physical constants\n",
    "\n",
    "cp = 1004;            # [J kg^-1 K^-1] specific heat of air at constant pressure\n",
    "P0 = 1013.25          # [hPa] mean air pressure at sea level\n",
    "rho_0 = 1.29          # [kg m^-3] density of air at P0 and T = 273.15K\n",
    "k = 0.4               # von Karman constant\n",
    "Lv = 2.5*10**6        # [J kg^-1] latent heat of vaporisation\n",
    "Lm = 3.34*10**5       # [J kg^-1] latent heat of fusion\n",
    "Ls = Lv + Lm          # [J kg^-1] latent heat of sublimation\n",
    "Rv = 461              # [J kg^-1 K^-1] gas constant for water vapor\n",
    "T0 = 273.15           # [K] triple point of water \n",
    "cw = 4200             # specific heat capacity of water [J kg^-1 K^-1]"
   ]
  },
  {
   "cell_type": "code",
   "execution_count": null,
   "metadata": {},
   "outputs": [],
   "source": [
    "# assigning values to parameters (partly specific to the measurements at Zhadang)\n",
    "    \n",
    "z_m = 2.5                    # [m] measurement height of wind\n",
    "z_h = 2                      # [m] measurement height of temperature\n",
    "z_v = 2                      # [m] measurement height of humidity\n",
    "z0m = 0.0017\n",
    "z0h = 0.0012\n",
    "z0v = 0.0012"
   ]
  },
  {
   "cell_type": "markdown",
   "metadata": {},
   "source": [
    "### Sensible heat flux\n",
    "\n",
    "So lets plug all these numbers into the equation in python:"
   ]
  },
  {
   "cell_type": "code",
   "execution_count": null,
   "metadata": {},
   "outputs": [],
   "source": [
    "# bulk formula for sensible heat\n",
    "E_H = cp * rho_0 * df['PRESSURE']/P0 * k**2 * df['WINDSPEED'] * (df['TEMP'] - df['SURFTEMP']) / ( np.log(z_m/z0m) * np.log(z_h/z0h));"
   ]
  },
  {
   "cell_type": "markdown",
   "metadata": {},
   "source": [
    "Just to show you an alternative way of coding this .... we can instead make a function:"
   ]
  },
  {
   "cell_type": "code",
   "execution_count": null,
   "metadata": {},
   "outputs": [],
   "source": [
    "def calc_E_H(df_in):  \n",
    "    \n",
    "    # sensible heat flux\n",
    "    first_term = cp * rho_0 * df_in['PRESSURE'] / P0\n",
    "    \n",
    "    enumerator = k**2 * df_in['WINDSPEED'] * (df_in['TEMP'] - df_in['SURFTEMP'])\n",
    "    \n",
    "    denominator = np.log(z_m/z0m) * np.log(z_h/z0h)\n",
    "    \n",
    "    E_H = first_term * enumerator / denominator\n",
    "    \n",
    "    return E_H"
   ]
  },
  {
   "cell_type": "code",
   "execution_count": null,
   "metadata": {},
   "outputs": [],
   "source": [
    "# then apply this function to the dataframe\n",
    "\n",
    "E_H = calc_E_H(df)\n",
    "df['E_H'] = E_H\n",
    "\n",
    "# .... and lets plot our newly calculated flux\n",
    "\n",
    "plt.figure(figsize=(10,5));\n",
    "df['E_H'].plot();\n",
    "plt.title('Sensible Heat Flux');\n",
    "plt.ylabel('W m$^{-2}$');\n",
    "plt.xlabel('');"
   ]
  },
  {
   "cell_type": "markdown",
   "metadata": {},
   "source": [
    "### Latent heat flux"
   ]
  },
  {
   "cell_type": "markdown",
   "metadata": {},
   "source": [
    "We've got a few extra things to do here as we measure relative humidity but we need vapor pressure in our equation for latent heat flux. So we first compute the saturated vapor pressures ($e_s$) for a given temperature:\n",
    "\n",
    "$e_s = 6.11e^{(L/Rv).(1/T_0 - 1/T)}$\n",
    "\n",
    "where, $L$ is $L_v$ if $T_a >= T_0$ and $L_s$ elsewhere (a condition that also applies to computing the latent heat flux)\n",
    "\n",
    "Then use relative humidity to convert to the actual vapor pressure:\n",
    "\n",
    "$e_a = (RH/100). e_s$"
   ]
  },
  {
   "cell_type": "code",
   "execution_count": null,
   "metadata": {},
   "outputs": [],
   "source": [
    "# Conversion of temperatures to Kelvin\n",
    "TEMP_K = df['TEMP'] + T0\n",
    "SURFTEMP_K = df['SURFTEMP'] + T0\n",
    "\n",
    "# Calculation of saturation vapor pressure of air\n",
    "e_sat_air = df['TEMP'] * 0\n",
    "e_sat_air.loc[TEMP_K >= T0] = 6.11 * np.exp((Lv / Rv) * (1/T0 - 1/TEMP_K))\n",
    "e_sat_air.loc[TEMP_K < T0] = 6.11 * np.exp((Ls / Rv) * (1/T0 - 1/TEMP_K))\n",
    "\n",
    "# Calculation of saturation vapor pressure of surface\n",
    "e_sat_surf = 6.11 * np.exp((Ls / Rv) * (1/T0 - 1/SURFTEMP_K))\n",
    "\n",
    "# Calculation of water vapor pressure in air\n",
    "e_air = e_sat_air * (df['RH'] / 100)"
   ]
  },
  {
   "cell_type": "markdown",
   "metadata": {},
   "source": [
    "Phew! Now we are ready to plug it all into the formula for latent heat flux:"
   ]
  },
  {
   "cell_type": "code",
   "execution_count": null,
   "metadata": {},
   "outputs": [],
   "source": [
    "E_E_vap = 0.623 * Lv * rho_0 * 1/P0 * k**2 * df['WINDSPEED'] * (e_air - e_sat_surf) / (np.log(z_m/z0m) * np.log(z_v/z0v))\n",
    "E_E_sub = 0.623 * Ls * rho_0 * 1/P0 * k**2 * df['WINDSPEED'] * (e_air - e_sat_surf) / (np.log(z_m/z0m) * np.log(z_v/z0v))\n",
    "E_E = np.where(df.SURFTEMP == 0, E_E_vap, E_E_sub)\n",
    "\n",
    "# and add it to our dataframe\n",
    "df['E_E'] = E_E"
   ]
  },
  {
   "cell_type": "code",
   "execution_count": null,
   "metadata": {},
   "outputs": [],
   "source": [
    "plt.figure(figsize=(10,5));\n",
    "df['E_E'].plot();\n",
    "plt.title('Latent Heat Flux');\n",
    "plt.ylabel('W m$^{-2}$');\n",
    "plt.xlabel('');\n",
    "plt.axhline(y=0,linestyle='--',color='black');\n"
   ]
  },
  {
   "cell_type": "markdown",
   "metadata": {},
   "source": [
    "Roughness lengths can be determined either by profile measurements or can be calibrated from turbulent fluxes measurements. Both methods are difficult to apply and uncertain, so that the vast majority of studies are using standard values for the surface roughness lengths. Here we are going to consider the impact of this.\n",
    "\n",
    "**Q: With a well formulated search request on your favourite websearch engine, or by looking in a textbook, you should be able to find some information about the order of magnitude by which these roughness lengths can vary (over a glacier surface), list them here:**"
   ]
  },
  {
   "cell_type": "code",
   "execution_count": null,
   "metadata": {},
   "outputs": [],
   "source": [
    "# your answer here"
   ]
  },
  {
   "cell_type": "markdown",
   "metadata": {},
   "source": [
    "**Q: List some factors that affect the surface roughness of a glacier:**"
   ]
  },
  {
   "cell_type": "code",
   "execution_count": null,
   "metadata": {},
   "outputs": [],
   "source": [
    "# your answer here"
   ]
  },
  {
   "cell_type": "markdown",
   "metadata": {},
   "source": [
    "**Q: Pick one of the turbulent fluxes and perform a sensitivity study to assess the impact of varying surface roughness by increasing both roughness values in the equation by one and then two orders of magnitude (by which I mean, multiply the stated roughness values by 10, and then 100) and rerun your calculations. On the basis of your results and the factors you listed above, conclude about the importance of surface roughness, and qualitatively about the uncertainty associated with setting them to be constant in space and time.**"
   ]
  },
  {
   "cell_type": "code",
   "execution_count": null,
   "metadata": {},
   "outputs": [],
   "source": [
    "# redefine new roughness values *10\n",
    "# copy/paste the flux calculation, but edit its outputname and input roughnesses\n",
    "\n",
    "# redefine new roughness values *100\n",
    "# copy/paste the flux calculation, but edit its outputname and input roughnesses\n",
    "\n",
    "# plot your results together to compare them"
   ]
  },
  {
   "cell_type": "code",
   "execution_count": null,
   "metadata": {},
   "outputs": [],
   "source": [
    "# summarise your conclusion here"
   ]
  },
  {
   "cell_type": "markdown",
   "metadata": {},
   "source": [
    "## 2. Residual flux, melt energy and mass balance"
   ]
  },
  {
   "cell_type": "markdown",
   "metadata": {},
   "source": [
    "Now we can use the energy balance equation to compute the residual flux and plot it:"
   ]
  },
  {
   "cell_type": "code",
   "execution_count": null,
   "metadata": {},
   "outputs": [],
   "source": [
    "# calcualte the residual flux\n",
    "# df['E_N'] = ?\n",
    "\n",
    "plt.figure(figsize=(10,5));\n",
    "df['E_N'].plot();\n",
    "plt.title('Residual flux');\n",
    "plt.ylabel('W m$^{-2}$');\n",
    "plt.xlabel('');\n",
    "plt.axhline(y=0,linestyle='--',color='black');\n"
   ]
  },
  {
   "cell_type": "markdown",
   "metadata": {},
   "source": [
    "**Q: Lets see if this pattern is clearer if we look at the monthly means to clean things up a bit:**"
   ]
  },
  {
   "cell_type": "code",
   "execution_count": null,
   "metadata": {},
   "outputs": [],
   "source": [
    "# resample and plot the monthly values of E_N\n"
   ]
  },
  {
   "cell_type": "markdown",
   "metadata": {},
   "source": [
    "And for completeness what about looking at the daily cycle in January and July:"
   ]
  },
  {
   "cell_type": "code",
   "execution_count": null,
   "metadata": {},
   "outputs": [],
   "source": [
    "# plot the daily cycle of residual flux in January and July\n",
    "\n",
    "janE_N = df['E_N'].loc[df.index.month == 1]\n",
    "julE_N = df['E_N'].loc[df.index.month == 7]\n",
    "\n",
    "jan_day = janE_N.groupby(janE_N.index.hour).mean()\n",
    "jul_day = julE_N.groupby(julE_N.index.hour).mean()\n",
    "\n",
    "plt.figure(figsize=(10,5));\n",
    "jan_day.plot(label='January');\n",
    "jul_day.plot(label='July');\n",
    "plt.axhline(y=0, linestyle='--',color='black')\n",
    "plt.title('Daily cycles of residual flux');\n",
    "plt.ylabel('W m$^{-2}$');\n",
    "plt.xlabel('Hour of day');\n",
    "plt.legend(loc='best');"
   ]
  },
  {
   "cell_type": "markdown",
   "metadata": {},
   "source": [
    "**Q: Make some notes about what you observe in the cycles of the residual flux, and the causes of them:**"
   ]
  },
  {
   "cell_type": "code",
   "execution_count": null,
   "metadata": {},
   "outputs": [],
   "source": [
    "# your answer here\n"
   ]
  },
  {
   "cell_type": "markdown",
   "metadata": {},
   "source": [
    "Recall that over a glacier if the residual flux is positive, excess energy is used for warming the snow/ice surface if the surface is <0°C and for melting the surface if the surface is at 0°C. If the residual flux is negative this causes cooling of the glacier surface.\n",
    "\n",
    "**Q: Calculate the energy for melt conditional on the surface temperature and positive residual flux, and plot it:**"
   ]
  },
  {
   "cell_type": "code",
   "execution_count": null,
   "metadata": {},
   "outputs": [],
   "source": [
    "# your answer here\n",
    "\n",
    "# df['E_M'] = ?"
   ]
  },
  {
   "cell_type": "code",
   "execution_count": null,
   "metadata": {},
   "outputs": [],
   "source": [
    "# plot the melt energy\n",
    "\n",
    "plt.figure(figsize=(10,5));\n",
    "df['E_M'].plot();\n",
    "plt.title('Melt energy');\n",
    "plt.ylabel('W m$^{-2}$');\n",
    "plt.xlabel('');\n",
    "plt.axhline(y=0,linestyle='--',color='black');"
   ]
  },
  {
   "cell_type": "markdown",
   "metadata": {},
   "source": [
    "Shall we see what the the mean conditions of the radiative and turbulent energy fluxes are during melt?"
   ]
  },
  {
   "cell_type": "code",
   "execution_count": null,
   "metadata": {},
   "outputs": [],
   "source": [
    "# what are the mean conditions of the radiative and turbulent energy fluxes during melt?\n",
    "mean_NETRAD_melt = df['NETRAD'].loc[df['E_M'] > 0].mean()\n",
    "mean_E_H_melt = df['E_H'].loc[df['E_M'] > 0].mean()\n",
    "mean_E_E_melt = df['E_E'].loc[df['E_M'] > 0].mean()"
   ]
  },
  {
   "cell_type": "code",
   "execution_count": null,
   "metadata": {},
   "outputs": [],
   "source": [
    "print('The mean net radiation for times where E_M is strictly positive is ' + str(round(mean_NETRAD_melt, 2)) + ' W m-2')\n",
    "print('The mean sensible heat flux for times where E_M is strictly positive is ' + str(round(mean_E_H_melt, 2)) + ' W m-2')\n",
    "print('The mean latent heat flux for times where E_M is strictly positive is ' + str(round(mean_E_E_melt, 2)) + ' W m-2')"
   ]
  },
  {
   "cell_type": "markdown",
   "metadata": {},
   "source": [
    "Now we can use this melt energy (in $W.m^{-2} $) to compute the melt mass flux (in $kg.m^{-2} s^{-1}$) using:\n",
    "\n",
    "$ Melt = E_M / L_m $\n",
    "\n",
    "Mass loss by sublimation is treated a similar way. We can also now compute the surface mass balance as the sum of all the mass exchange terms:\n",
    "\n",
    "$ MB = snowfall + deposition - melt - sublimation$\n",
    "\n",
    "**Q: Calculate the hourly rate of mass exchange by melt, sublimation and solid precipitation, and plot them together, also plot the mass balance rate over time, and the cumulative mass balance terms.**"
   ]
  },
  {
   "cell_type": "code",
   "execution_count": null,
   "metadata": {
    "scrolled": true
   },
   "outputs": [],
   "source": [
    "# calculate melt mass \n",
    "\n",
    "# df['melt_mass'] = ?  ... check the units!!\n",
    "\n",
    "# calculate deposition/sublimation mass\n",
    "# remember to account for if this is sublimation or evaporation (depending on surface temperature)\n",
    "\n",
    "# df['dep_sub_mass'] = ?\n",
    "# or you can make two separate variables for mass gain and mass loss\n",
    "\n",
    "# extract solid precipitation\n",
    "\n",
    "df['solid_PRCP'] = np.where(df.TEMP < 0, df.PRCP, 0)\n",
    "\n",
    "# Checking the solid precipitation for nans reveals there was a period with no precipitation measurements\n",
    "print('No precipitation measurements at ' + str(np.isnan(df.solid_PRCP).sum()) + ' datapoints!')\n",
    "\n",
    "# Two options: use SR50 or just drop nans\n",
    "\n",
    "# ------------ USE SR50 ---------------------\n",
    "# Fortunately we can use SR50 measurements to fill this gaps\n",
    "surface_diff = np.append(0, np.diff(df.SR50))\n",
    "snowfall_from_SR50 = np.where(surface_diff > 0, surface_diff, 0)\n",
    "\n",
    "# But caution this is the snowfall height and not mm/m² (equals kg/m²) what we want for the mass balance\n",
    "# you must consider the snowdensity (400 kg m^–3)\n",
    "df['solid_PRCP'] = np.where(np.isnan(df.solid_PRCP), snowfall_from_SR50 * 400, df.solid_PRCP)\n",
    "\n",
    "# ------------- DROP NANS --------------------\n",
    "# df['solid_PRCP'] = np.where(np.isnan(df.solid_PRCP), 0, df.solid_PRCP)\n",
    "\n",
    "# check again\n",
    "print('Now no precipitation measurements at ' + str(np.isnan(df.solid_PRCP).sum()) + ' datapoints!')"
   ]
  },
  {
   "cell_type": "code",
   "execution_count": null,
   "metadata": {},
   "outputs": [],
   "source": [
    "# plot all these together here\n"
   ]
  },
  {
   "cell_type": "markdown",
   "metadata": {},
   "source": [
    "Lets now have a look at how mass balance evolves over time at Zhadang, by plotting the whole mass balance and also the cumulative sums of the individual terms:"
   ]
  },
  {
   "cell_type": "code",
   "execution_count": null,
   "metadata": {},
   "outputs": [],
   "source": [
    "# calculate mass balance \n",
    "# you may have to change this depending on how you name your variables\n",
    "df['MB'] = df['melt_mass'] + df['dep_sub_mass'] + df['solid_PRCP']\n",
    "\n",
    "# plot MB over time\n",
    "plt.figure(figsize=(10,7))\n",
    "df.MB.plot();\n",
    "plt.xlabel('');\n",
    "plt.ylabel('kg m$^{-2}$ h$^{-1}$');\n",
    "plt.title('Total mass balance per timestep');\n",
    "plt.axhline(y=0,linestyle='--',color='black');"
   ]
  },
  {
   "cell_type": "code",
   "execution_count": null,
   "metadata": {},
   "outputs": [],
   "source": [
    "# plot the cumulative mass balance terms\n",
    "# you may have to change this depending on how you name your variables\n",
    "\n",
    "plt.figure(figsize=(10,7))\n",
    "df.melt_mass.cumsum().plot(linewidth=1, linestyle='dashed', label='Melt')\n",
    "df.dep_sub_mass.cumsum().plot(linewidth=1, linestyle='dashed', label='Sublimation/Deposition')\n",
    "df.solid_PRCP.cumsum().plot(linewidth=1, linestyle='dashed', label='Precipitation')\n",
    "df.MB.cumsum().plot(label='Total mass balance');\n",
    "plt.legend(loc='best')\n",
    "plt.axhline(0, color='k', linestyle='dashed')\n",
    "plt.xlabel('');\n",
    "plt.ylabel('kg m$^{-2}$');\n",
    "plt.title('Cumulative mass balance');"
   ]
  },
  {
   "cell_type": "markdown",
   "metadata": {},
   "source": [
    "**Q: Discuss your results for the mass balance terms, with regard to**\n",
    "- **the relative size of each flux and when it occurs, and**\n",
    "- **the potential impact of any assumptions we have made in the model.**\n",
    "\n"
   ]
  },
  {
   "cell_type": "code",
   "execution_count": null,
   "metadata": {},
   "outputs": [],
   "source": [
    "# your answer here"
   ]
  },
  {
   "cell_type": "markdown",
   "metadata": {},
   "source": [
    "### 3. Comparing Zhadang with other glacier sites\n",
    "\n",
    "Glaciers, their sensitivity and the controls on their surface energy balance vary depending on thier climate setting. Use the analysis you have done already in this notebook, along with any new analysis you need to compare the surface energy and mass balance conditions at Zhadang with a glacier in a different climate setting. \n",
    "\n",
    "This is a rather open ended question, but focus your time on interpreting and understanding the controls on fluxes at Zhadang and the differences between the sites, and just make a bullet pointed list of a few key points that you can observe, bear in mind any limitations of both the published study and your own analysis here, as well as any potential impacts of the timeframe of the study (for example some publisehd studies only look at summer surface energy balance). Depending on the published dataset you may not be able to compare all aspects directly but do the best you can with the available data and comment on what you would need to do a more complete analysis. If relevent, feel free to include graphics from the paper by reproducing them here.\n",
    "\n",
    "- Summarize the properties of the Zhadang surface energy and mass balance - in terms of absolute values, variability, seasonality and diurnal cycles, and which are most important for driving melt, ...\n",
    "- Do a literature search to find a published analysis of surface energy balance for a glacier in a different location \n",
    "- Compare the surface energy fluxes between the two sites in terms of their absolute values, variability, seasonality and diurnal cycles, importance to melt, ...\n",
    "- Compare the mass balance of the two glacier sites, or discuss the controls on mass balance from first principles and your understanding the surface energy balance at the site.\n",
    "\n"
   ]
  },
  {
   "cell_type": "code",
   "execution_count": null,
   "metadata": {},
   "outputs": [],
   "source": [
    "# your analysis and answer here\n",
    "\n",
    "# -----\n",
    "\n",
    "# tell me everything you have learned about Zhadang energy and mass fluxes!\n",
    "\n",
    "# consider all the individula fluxes in turn - what are their values, when are they positive/negative, what controls their variabilty, and in all cases explain why?\n",
    "# whats the relative importance of individual fluxes and why?\n",
    "# did any of the results surprise you?\n",
    "\n",
    "\n",
    "# -----\n",
    "\n",
    "# now tell me how these features compare to another glacier!\n",
    "\n",
    "# Glacier chosen:\n",
    "# Paper citation:\n",
    "# Bullet point list of the similarities and differences and your explanation of them here\n",
    "\n"
   ]
  },
  {
   "cell_type": "code",
   "execution_count": null,
   "metadata": {},
   "outputs": [],
   "source": [
    "# an example of how to include an image file here\n",
    "from IPython.display import Image\n",
    "Image(\"netrad.png\")"
   ]
  }
 ],
 "metadata": {
  "kernelspec": {
   "display_name": "Python 3",
   "language": "python",
   "name": "python3"
  },
  "language_info": {
   "codemirror_mode": {
    "name": "ipython",
    "version": 3
   },
   "file_extension": ".py",
   "mimetype": "text/x-python",
   "name": "python",
   "nbconvert_exporter": "python",
   "pygments_lexer": "ipython3",
   "version": "3.8.6"
  },
  "toc": {
   "base_numbering": 1,
   "nav_menu": {},
   "number_sections": false,
   "sideBar": true,
   "skip_h1_title": false,
   "title_cell": "Table of Contents",
   "title_sidebar": "Contents",
   "toc_cell": false,
   "toc_position": {},
   "toc_section_display": true,
   "toc_window_display": false
  }
 },
 "nbformat": 4,
 "nbformat_minor": 2
}
