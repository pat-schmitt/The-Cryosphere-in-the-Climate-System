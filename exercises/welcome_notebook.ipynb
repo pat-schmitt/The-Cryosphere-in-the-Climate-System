{
 "cells": [
  {
   "cell_type": "markdown",
   "metadata": {},
   "source": [
    "# Welcome to the practicals of 'The Cryosphere in the Climate System'"
   ]
  },
  {
   "cell_type": "markdown",
   "metadata": {},
   "source": [
    "**Important: Check that you run the practicals in its own window (not as a tab) and do not forget to download your work!!!**"
   ]
  },
  {
   "cell_type": "markdown",
   "metadata": {},
   "source": [
    "Here are some notebooks with general information about the programming environment and an short introductions to notebooks and python:\n",
    "\n",
    "- [MyBinder and JupyterLab](MyBinder_and_JupyterLab.ipynb): an introduction to the programming environment\n",
    "- [Getting started with Jupyter Notebook](getting_started_with_notebooks.ipynb): an introduction to Jupyter Notebooks\n",
    "- [Getting started with Python](getting_started_with_python.ipynb): an introduction to Python"
   ]
  },
  {
   "cell_type": "markdown",
   "metadata": {},
   "source": [
    "Here you find the exercises in chronological order:\n",
    "\n",
    "- [E01 First Datacrunching](E01_First_Datacrunching.ipynb)\n",
    "- [E02 Available Tools](E02_Available_Tools.ipynb)\n",
    "- [E03 Meteorological Conditions](E03_Meteorological_Conditions.ipynb)\n",
    "- [E04_DegreeDayModel](E04_DegreeDayModel.ipynb)"
   ]
  }
 ],
 "metadata": {
  "kernelspec": {
   "display_name": "Python 3",
   "language": "python",
   "name": "python3"
  },
  "language_info": {
   "codemirror_mode": {
    "name": "ipython",
    "version": 3
   },
   "file_extension": ".py",
   "mimetype": "text/x-python",
   "name": "python",
   "nbconvert_exporter": "python",
   "pygments_lexer": "ipython3",
   "version": "3.7.6"
  },
  "toc": {
   "base_numbering": 1,
   "nav_menu": {},
   "number_sections": true,
   "sideBar": true,
   "skip_h1_title": false,
   "title_cell": "Table of Contents",
   "title_sidebar": "Contents",
   "toc_cell": false,
   "toc_position": {},
   "toc_section_display": true,
   "toc_window_display": false
  }
 },
 "nbformat": 4,
 "nbformat_minor": 4
}
