{
 "cells": [
  {
   "cell_type": "markdown",
   "metadata": {},
   "source": [
    "# Welcome to the practicals of 'The Cryosphere in the Climate System'"
   ]
  },
  {
   "cell_type": "markdown",
   "metadata": {},
   "source": [
    "**Important: Check that you run the practicals in its own window (not as a tab) and do not forget to download your work!!!**"
   ]
  },
  {
   "cell_type": "markdown",
   "metadata": {},
   "source": [
    "Here are some notebooks with general information about the programming environment and an short introductions to notebooks and python:\n",
    "\n",
    "- [MyBinder and JupyterLab](MyBinder_and_JupyterLab.ipynb): an introduction to the programming environment\n",
    "- [Getting started with Jupyter Notebook](getting_started_with_notebooks.ipynb): an introduction to Jupyter Notebooks\n",
    "- [Getting started with Python](getting_started_with_python.ipynb): an introduction to Python"
   ]
  },
  {
   "cell_type": "markdown",
   "metadata": {},
   "source": [
    "Here you find the exercises in chronological order:\n",
    "\n",
    "- [E01 First Datacrunching](E01_First_Datacrunching.ipynb)\n",
    "- [E02 Available Tools](E02_Available_Tools.ipynb)\n",
    "- [E03 Meteorological Conditions](E03_Meteorological_Conditions.ipynb)\n",
    "- [E04 DegreeDayModel](E04_DegreeDayModel.ipynb)\n",
    "\n",
    "For the next exercises we use notebooks from OGGM Edu, to open the OGGM Edu-MyBinder environment you can go on the website [OGGM Edu](https://edu.oggm.org/en/latest/notebooks_howto.html#) and click on the 'launch Edu Notebooks' button or you can use the links below to direclty navigate to the notebooks (**do not forget to open the new MyBinder environment in a new tab**, and check out the other notebooks available there ;) ):\n",
    "\n",
    "- [Flowline Model](https://mybinder.org/v2/gh/OGGM/binder/master?urlpath=git-pull?repo=https://github.com/OGGM/oggm-edu-notebooks%26amp%3Bbranch=master%26amp%3Burlpath=lab/tree/oggm-edu-notebooks/oggm-edu/flowline_model.ipynb%3Fautodecode)\n",
    "- [Glacier Surging Experiment](https://mybinder.org/v2/gh/OGGM/binder/master?urlpath=git-pull?repo=https://github.com/OGGM/oggm-edu-notebooks%26amp%3Bbranch=master%26amp%3Burlpath=lab/tree/oggm-edu-notebooks/oggm-edu/surging_experiment.ipynb%3Fautodecode)\n",
    "- if the links do not navigate you directly to the notebooks click on *oggm-edu-notebooks* and *oggm-edu* in the left sidebar and choose the desired notebook"
   ]
  },
  {
   "cell_type": "markdown",
   "metadata": {},
   "source": [
    "Here you find completed notebooks:\n",
    "\n",
    "- [E01 First Datacrunching Completed](E01_First_Datacrunching_Completed.ipynb)\n",
    "- [E03 Meteorological Conditions Completed](E03_Meteorological_Conditions_Completed.ipynb)\n",
    "- [E04 DegreeDayModel Completed](E04_DegreeDayModel_completed.ipynb)"
   ]
  }
 ],
 "metadata": {
  "kernelspec": {
   "display_name": "Python 3",
   "language": "python",
   "name": "python3"
  },
  "language_info": {
   "codemirror_mode": {
    "name": "ipython",
    "version": 3
   },
   "file_extension": ".py",
   "mimetype": "text/x-python",
   "name": "python",
   "nbconvert_exporter": "python",
   "pygments_lexer": "ipython3",
   "version": "3.8.6"
  },
  "toc": {
   "base_numbering": 1,
   "nav_menu": {},
   "number_sections": true,
   "sideBar": true,
   "skip_h1_title": false,
   "title_cell": "Table of Contents",
   "title_sidebar": "Contents",
   "toc_cell": false,
   "toc_position": {},
   "toc_section_display": true,
   "toc_window_display": false
  }
 },
 "nbformat": 4,
 "nbformat_minor": 4
}
